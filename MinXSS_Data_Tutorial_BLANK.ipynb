{
  "nbformat": 4,
  "nbformat_minor": 0,
  "metadata": {
    "colab": {
      "name": "MinXSS_Data_Tutorial_BLANK.ipynb",
      "provenance": [],
      "authorship_tag": "ABX9TyO0nHAbJGZnPc9CPvu0fax9",
      "include_colab_link": true
    },
    "kernelspec": {
      "name": "python3",
      "display_name": "Python 3"
    },
    "language_info": {
      "name": "python"
    }
  },
  "cells": [
    {
      "cell_type": "markdown",
      "metadata": {
        "id": "view-in-github",
        "colab_type": "text"
      },
      "source": [
        "<a href=\"https://colab.research.google.com/github/criselsuarez/MinXSS_DAXSS_Tutorial/blob/main/MinXSS_Data_Tutorial_BLANK.ipynb\" target=\"_parent\"><img src=\"https://colab.research.google.com/assets/colab-badge.svg\" alt=\"Open In Colab\"/></a>"
      ]
    },
    {
      "cell_type": "code",
      "execution_count": 3,
      "metadata": {
        "colab": {
          "base_uri": "https://localhost:8080/"
        },
        "id": "E5rfLZEfVb2L",
        "outputId": "62a1e355-4684-4cc4-a8e9-e26ce003dc68"
      },
      "outputs": [
        {
          "output_type": "stream",
          "name": "stdout",
          "text": [
            "Looking in indexes: https://pypi.org/simple, https://us-python.pkg.dev/colab-wheels/public/simple/\n",
            "Requirement already satisfied: matplotlib in /usr/local/lib/python3.7/dist-packages (3.2.2)\n",
            "Requirement already satisfied: scipy in /usr/local/lib/python3.7/dist-packages (1.4.1)\n",
            "Requirement already satisfied: pandas in /usr/local/lib/python3.7/dist-packages (1.3.5)\n",
            "Requirement already satisfied: kiwisolver>=1.0.1 in /usr/local/lib/python3.7/dist-packages (from matplotlib) (1.4.3)\n",
            "Requirement already satisfied: cycler>=0.10 in /usr/local/lib/python3.7/dist-packages (from matplotlib) (0.11.0)\n",
            "Requirement already satisfied: python-dateutil>=2.1 in /usr/local/lib/python3.7/dist-packages (from matplotlib) (2.8.2)\n",
            "Requirement already satisfied: numpy>=1.11 in /usr/local/lib/python3.7/dist-packages (from matplotlib) (1.21.6)\n",
            "Requirement already satisfied: pyparsing!=2.0.4,!=2.1.2,!=2.1.6,>=2.0.1 in /usr/local/lib/python3.7/dist-packages (from matplotlib) (3.0.9)\n",
            "Requirement already satisfied: typing-extensions in /usr/local/lib/python3.7/dist-packages (from kiwisolver>=1.0.1->matplotlib) (4.1.1)\n",
            "Requirement already satisfied: six>=1.5 in /usr/local/lib/python3.7/dist-packages (from python-dateutil>=2.1->matplotlib) (1.15.0)\n",
            "Requirement already satisfied: pytz>=2017.3 in /usr/local/lib/python3.7/dist-packages (from pandas) (2022.1)\n"
          ]
        }
      ],
      "source": [
        "#Installing dependencies\n",
        "!pip install matplotlib scipy pandas"
      ]
    },
    {
      "cell_type": "code",
      "source": [
        "# Importing all required Python Libraries\n",
        "import matplotlib.pyplot as plt\n",
        "import numpy as np\n",
        "from scipy.io.idl import readsav\n",
        "import pandas as pd\n",
        "import matplotlib.dates as mdates\n",
        "\n"
      ],
      "metadata": {
        "id": "SkKIGxPsVgpK"
      },
      "execution_count": 4,
      "outputs": []
    },
    {
      "cell_type": "markdown",
      "source": [
        "# MinXSS DATA "
      ],
      "metadata": {
        "id": "Puv-ksyVQNFy"
      }
    },
    {
      "cell_type": "markdown",
      "source": [
        "## DATA"
      ],
      "metadata": {
        "id": "6dN-rMTXOIFm"
      }
    },
    {
      "cell_type": "code",
      "source": [
        "# Getting the data\n",
        "# Data available at https://lasp.colorado.edu/home/minxss/data/\n",
        "!wget -O minxss1_l1_mission_length_v3.1.0.sav -cq https://www.dropbox.com/s/8nzfmenevezy3t6/minxss1_l1_mission_length_v3.1.0.sav?dl=0\n",
        "\n",
        "\n",
        "data_level_1 = readsav('/content/minxss1_l1_mission_length_v3.1.0.sav')\n",
        "level1_1min_minxss = data_level_1.copy()\n",
        "\n"
      ],
      "metadata": {
        "id": "Z8gZB4a9sjAM"
      },
      "execution_count": 5,
      "outputs": []
    },
    {
      "cell_type": "code",
      "source": [
        "#MinXSS Data Structure\n",
        "#Shows the tags and meta data for the different intruments on board MinXSS-1"
      ],
      "metadata": {
        "id": "yXBRtja9Vsh1"
      },
      "execution_count": 6,
      "outputs": []
    },
    {
      "cell_type": "code",
      "source": [
        "#MinXSS Data X123 Structure\n"
      ],
      "metadata": {
        "id": "_wRvYYE8VtXl"
      },
      "execution_count": 7,
      "outputs": []
    },
    {
      "cell_type": "code",
      "source": [
        "#MinXSS Tag Names \n",
        "#Use X123_SLOW_COUNT for time series analysis (counts/sec)\n",
        "#Use IRRADIANCE for spectra analysis (photons / sec / cm$^2$ / keV)"
      ],
      "metadata": {
        "id": "MTKibK6lVxx4"
      },
      "execution_count": 8,
      "outputs": []
    },
    {
      "cell_type": "code",
      "source": [
        "#MinXSS Time Structure\n"
      ],
      "metadata": {
        "id": "Vyai0RNPVznr"
      },
      "execution_count": 9,
      "outputs": []
    },
    {
      "cell_type": "code",
      "source": [
        "#Convert All Times\n",
        "\n",
        "minxss_time_lvl1_array = np.array([])\n",
        "\n",
        "for time_index in range(len(minxss_level1_df['TIME'])):\n",
        "  #minxss_time = minxss_level1_df['TIME'][time_index]['HUMAN'][0].decode(\"utf-8\")\n",
        "  minxss_time = pd.to_datetime(minxss_level1_df['TIME'][time_index]['HUMAN'][0].decode(\"utf-8\"))\n",
        "  minxss_time_lvl1_array = np.append(minxss_time_lvl1_array, minxss_time)\n"
      ],
      "metadata": {
        "colab": {
          "base_uri": "https://localhost:8080/",
          "height": 240
        },
        "id": "LlBAjeS2V2V8",
        "outputId": "a5efa105-2fe3-46cc-86b1-f125a8149aab"
      },
      "execution_count": 11,
      "outputs": [
        {
          "output_type": "error",
          "ename": "NameError",
          "evalue": "ignored",
          "traceback": [
            "\u001b[0;31m---------------------------------------------------------------------------\u001b[0m",
            "\u001b[0;31mNameError\u001b[0m                                 Traceback (most recent call last)",
            "\u001b[0;32m<ipython-input-11-874dc4bc56df>\u001b[0m in \u001b[0;36m<module>\u001b[0;34m()\u001b[0m\n\u001b[1;32m      3\u001b[0m \u001b[0mminxss_time_lvl1_array\u001b[0m \u001b[0;34m=\u001b[0m \u001b[0mnp\u001b[0m\u001b[0;34m.\u001b[0m\u001b[0marray\u001b[0m\u001b[0;34m(\u001b[0m\u001b[0;34m[\u001b[0m\u001b[0;34m]\u001b[0m\u001b[0;34m)\u001b[0m\u001b[0;34m\u001b[0m\u001b[0;34m\u001b[0m\u001b[0m\n\u001b[1;32m      4\u001b[0m \u001b[0;34m\u001b[0m\u001b[0m\n\u001b[0;32m----> 5\u001b[0;31m \u001b[0;32mfor\u001b[0m \u001b[0mtime_index\u001b[0m \u001b[0;32min\u001b[0m \u001b[0mrange\u001b[0m\u001b[0;34m(\u001b[0m\u001b[0mlen\u001b[0m\u001b[0;34m(\u001b[0m\u001b[0mminxss_level1_df\u001b[0m\u001b[0;34m[\u001b[0m\u001b[0;34m'TIME'\u001b[0m\u001b[0;34m]\u001b[0m\u001b[0;34m)\u001b[0m\u001b[0;34m)\u001b[0m\u001b[0;34m:\u001b[0m\u001b[0;34m\u001b[0m\u001b[0;34m\u001b[0m\u001b[0m\n\u001b[0m\u001b[1;32m      6\u001b[0m   \u001b[0;31m#minxss_time = minxss_level1_df['TIME'][time_index]['HUMAN'][0].decode(\"utf-8\")\u001b[0m\u001b[0;34m\u001b[0m\u001b[0;34m\u001b[0m\u001b[0;34m\u001b[0m\u001b[0m\n\u001b[1;32m      7\u001b[0m   \u001b[0mminxss_time\u001b[0m \u001b[0;34m=\u001b[0m \u001b[0mpd\u001b[0m\u001b[0;34m.\u001b[0m\u001b[0mto_datetime\u001b[0m\u001b[0;34m(\u001b[0m\u001b[0mminxss_level1_df\u001b[0m\u001b[0;34m[\u001b[0m\u001b[0;34m'TIME'\u001b[0m\u001b[0;34m]\u001b[0m\u001b[0;34m[\u001b[0m\u001b[0mtime_index\u001b[0m\u001b[0;34m]\u001b[0m\u001b[0;34m[\u001b[0m\u001b[0;34m'HUMAN'\u001b[0m\u001b[0;34m]\u001b[0m\u001b[0;34m[\u001b[0m\u001b[0;36m0\u001b[0m\u001b[0;34m]\u001b[0m\u001b[0;34m.\u001b[0m\u001b[0mdecode\u001b[0m\u001b[0;34m(\u001b[0m\u001b[0;34m\"utf-8\"\u001b[0m\u001b[0;34m)\u001b[0m\u001b[0;34m)\u001b[0m\u001b[0;34m\u001b[0m\u001b[0;34m\u001b[0m\u001b[0m\n",
            "\u001b[0;31mNameError\u001b[0m: name 'minxss_level1_df' is not defined"
          ]
        }
      ]
    },
    {
      "cell_type": "markdown",
      "source": [
        "## Time Series\n",
        "### Use X123_SLOW_COUNT tag. X123 has units of counts per seconds\n",
        "\n"
      ],
      "metadata": {
        "id": "KtijW6NpWNbA"
      }
    },
    {
      "cell_type": "code",
      "source": [
        "#Plot all of MinXSS-1 mission \n"
      ],
      "metadata": {
        "id": "5hAht4-wWhsi"
      },
      "execution_count": null,
      "outputs": []
    },
    {
      "cell_type": "code",
      "source": [
        "#Plot Time Series Flare\n"
      ],
      "metadata": {
        "id": "tHr2cq-pWswq"
      },
      "execution_count": null,
      "outputs": []
    },
    {
      "cell_type": "markdown",
      "source": [
        "## Spectra\n",
        "### Use Energy and Irradiance tags. Irradiance has units of [photons / sec / cm 2  / keV] and Energy has units of keV"
      ],
      "metadata": {
        "id": "YRrlz3ltWeZr"
      }
    },
    {
      "cell_type": "code",
      "source": [
        "#Plot a spectrum"
      ],
      "metadata": {
        "id": "VMV3PkqjWZ0h"
      },
      "execution_count": null,
      "outputs": []
    }
  ]
}