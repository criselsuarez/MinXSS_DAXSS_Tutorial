{
  "nbformat": 4,
  "nbformat_minor": 0,
  "metadata": {
    "colab": {
      "name": "MinXSS_Data_Tutorial.ipynb",
      "provenance": [],
      "authorship_tag": "ABX9TyM3WR7OJZjrTH6nQ/4tvYvZ",
      "include_colab_link": true
    },
    "kernelspec": {
      "name": "python3",
      "display_name": "Python 3"
    },
    "language_info": {
      "name": "python"
    }
  },
  "cells": [
    {
      "cell_type": "markdown",
      "metadata": {
        "id": "view-in-github",
        "colab_type": "text"
      },
      "source": [
        "<a href=\"https://colab.research.google.com/github/criselsuarez/MinXSS_DAXSS_Tutorial/blob/main/MinXSS_Data_Tutorial.ipynb\" target=\"_parent\"><img src=\"https://colab.research.google.com/assets/colab-badge.svg\" alt=\"Open In Colab\"/></a>"
      ]
    },
    {
      "cell_type": "markdown",
      "source": [
        "#Hello and welcome to the MinXSS/DAXSS Data tutorial\n",
        "\n"
      ],
      "metadata": {
        "id": "9l8yT_KHAe6T"
      }
    },
    {
      "cell_type": "code",
      "execution_count": 113,
      "metadata": {
        "colab": {
          "base_uri": "https://localhost:8080/"
        },
        "id": "8E8JKjkUsRYk",
        "outputId": "70c78a7b-51a8-4e78-9238-f88248c4a44d"
      },
      "outputs": [
        {
          "output_type": "stream",
          "name": "stdout",
          "text": [
            "Looking in indexes: https://pypi.org/simple, https://us-python.pkg.dev/colab-wheels/public/simple/\n",
            "Requirement already satisfied: matplotlib in /usr/local/lib/python3.7/dist-packages (3.2.2)\n",
            "Requirement already satisfied: scipy in /usr/local/lib/python3.7/dist-packages (1.4.1)\n",
            "Requirement already satisfied: pandas in /usr/local/lib/python3.7/dist-packages (1.3.5)\n",
            "Requirement already satisfied: python-dateutil>=2.1 in /usr/local/lib/python3.7/dist-packages (from matplotlib) (2.8.2)\n",
            "Requirement already satisfied: kiwisolver>=1.0.1 in /usr/local/lib/python3.7/dist-packages (from matplotlib) (1.4.3)\n",
            "Requirement already satisfied: numpy>=1.11 in /usr/local/lib/python3.7/dist-packages (from matplotlib) (1.21.6)\n",
            "Requirement already satisfied: cycler>=0.10 in /usr/local/lib/python3.7/dist-packages (from matplotlib) (0.11.0)\n",
            "Requirement already satisfied: pyparsing!=2.0.4,!=2.1.2,!=2.1.6,>=2.0.1 in /usr/local/lib/python3.7/dist-packages (from matplotlib) (3.0.9)\n",
            "Requirement already satisfied: typing-extensions in /usr/local/lib/python3.7/dist-packages (from kiwisolver>=1.0.1->matplotlib) (4.1.1)\n",
            "Requirement already satisfied: six>=1.5 in /usr/local/lib/python3.7/dist-packages (from python-dateutil>=2.1->matplotlib) (1.15.0)\n",
            "Requirement already satisfied: pytz>=2017.3 in /usr/local/lib/python3.7/dist-packages (from pandas) (2022.1)\n"
          ]
        }
      ],
      "source": [
        "#Installing dependencies\n",
        "!pip install matplotlib scipy pandas"
      ]
    },
    {
      "cell_type": "code",
      "source": [
        "# Importing all required Python Libraries\n",
        "import matplotlib.pyplot as plt\n",
        "import numpy as np\n",
        "from scipy.io.idl import readsav\n",
        "import pandas as pd\n",
        "import matplotlib.dates as mdates\n",
        "\n"
      ],
      "metadata": {
        "id": "srhHdZXXBbCn"
      },
      "execution_count": 114,
      "outputs": []
    },
    {
      "cell_type": "markdown",
      "source": [
        "# MinXSS DATA "
      ],
      "metadata": {
        "id": "Puv-ksyVQNFy"
      }
    },
    {
      "cell_type": "markdown",
      "source": [
        "## DATA"
      ],
      "metadata": {
        "id": "6dN-rMTXOIFm"
      }
    },
    {
      "cell_type": "code",
      "source": [
        "# Getting the data\n",
        "# Data available at https://lasp.colorado.edu/home/minxss/data/\n",
        "!wget -O minxss1_l1_mission_length_v3.1.0.sav -cq https://www.dropbox.com/s/8nzfmenevezy3t6/minxss1_l1_mission_length_v3.1.0.sav?dl=0\n",
        "\n",
        "\n",
        "data_level_1 = readsav('/content/minxss1_l1_mission_length_v3.1.0.sav')\n",
        "level1_1min_minxss = data_level_1.copy()\n",
        "\n"
      ],
      "metadata": {
        "id": "Z8gZB4a9sjAM"
      },
      "execution_count": 115,
      "outputs": []
    },
    {
      "cell_type": "code",
      "source": [
        "#MinXSS Data Structure\n",
        "#Shows the tags and meta data for the different intruments on board MinXSS-1\n",
        "(level1_1min_minxss['minxsslevel1']).dtype\n"
      ],
      "metadata": {
        "colab": {
          "base_uri": "https://localhost:8080/"
        },
        "id": "A-QuFcn8CO44",
        "outputId": "b0fa5942-a5fa-4eef-fdde-bace31c17b42"
      },
      "execution_count": 116,
      "outputs": [
        {
          "output_type": "execute_result",
          "data": {
            "text/plain": [
              "dtype((numpy.record, [(('x123', 'X123'), 'O'), (('x123_meta', 'X123_META'), 'O'), (('x123_dark', 'X123_DARK'), 'O'), (('xp', 'XP'), 'O'), (('xp_meta', 'XP_META'), 'O'), (('xp_dark', 'XP_DARK'), 'O')]))"
            ]
          },
          "metadata": {},
          "execution_count": 116
        }
      ]
    },
    {
      "cell_type": "code",
      "source": [
        "#MinXSS Data X123 Structure\n",
        "minxss_level1_df = pd.DataFrame.from_records(level1_1min_minxss['minxsslevel1']['x123'][0])"
      ],
      "metadata": {
        "id": "mPAWN_UGC5kh"
      },
      "execution_count": 117,
      "outputs": []
    },
    {
      "cell_type": "code",
      "source": [
        "#MinXSS Tag Names \n",
        "#Use X123_SLOW_COUNT for time series analysis (counts/sec)\n",
        "#Use IRRADIANCE for spectra analysis (photons / sec / cm$^2$ / keV)\n",
        "print(minxss_level1_df.keys())"
      ],
      "metadata": {
        "colab": {
          "base_uri": "https://localhost:8080/"
        },
        "id": "p2xtmsCPE1Wa",
        "outputId": "c8556b59-2ebb-46fc-e90b-650ddae34cef"
      },
      "execution_count": 118,
      "outputs": [
        {
          "output_type": "stream",
          "name": "stdout",
          "text": [
            "Index(['TIME', 'FLIGHT_MODEL', 'IRRADIANCE', 'IRRADIANCE_UNCERTAINTY',\n",
            "       'ENERGY', 'SPECTRUM_CPS', 'SPECTRUM_CPS_ACCURACY',\n",
            "       'SPECTRUM_CPS_PRECISION', 'SPECTRUM_CPS_STDDEV',\n",
            "       'DEADTIME_CORRECTION_FACTOR', 'VALID_FLAG', 'X123_RADIO_FLAG',\n",
            "       'SPECTRUM_TOTAL_COUNTS', 'SPECTRUM_TOTAL_COUNTS_ACCURACY',\n",
            "       'SPECTRUM_TOTAL_COUNTS_PRECISION', 'INTEGRATION_TIME', 'NUMBER_SPECTRA',\n",
            "       'X123_FAST_COUNT', 'X123_SLOW_COUNT', 'SPS_ON', 'SPS_SUM', 'SPS_X',\n",
            "       'SPS_Y', 'SPS_X_HK', 'SPS_Y_HK', 'LONGITUDE', 'LATITUDE', 'ALTITUDE',\n",
            "       'SUN_RIGHT_ASCENSION', 'SUN_DECLINATION', 'EARTH_SUN_DISTANCE',\n",
            "       'CORRECT_AU'],\n",
            "      dtype='object')\n"
          ]
        }
      ]
    },
    {
      "cell_type": "code",
      "source": [
        "#MinXSS Time Structure\n",
        "\n",
        "index = 10 \n",
        "\n",
        "print(minxss_level1_df['TIME'][index].dtype)\n",
        "\n",
        "print(minxss_level1_df['TIME'][index]['human'][0].decode(\"utf-8\"))"
      ],
      "metadata": {
        "colab": {
          "base_uri": "https://localhost:8080/"
        },
        "id": "qzQgZjcLE3E7",
        "outputId": "5b524ebc-5ce4-47cb-f13f-5a03aa7df6f4"
      },
      "execution_count": 119,
      "outputs": [
        {
          "output_type": "stream",
          "name": "stdout",
          "text": [
            "(numpy.record, [(('iso', 'ISO'), 'O'), (('human', 'HUMAN'), 'O'), (('yyyymmdd', 'YYYYMMDD'), '>i4'), (('yyyydoy', 'YYYYDOY'), '>i4'), (('hhmmss', 'HHMMSS'), 'O'), (('sod', 'SOD'), '>i4'), (('fod', 'FOD'), '>f8'), (('jd', 'JD'), '>f8'), (('tai', 'TAI'), '>f8'), (('spacecraftgpsformat', 'SPACECRAFTGPSFORMAT'), '>f8')])\n",
            "2016-06-09 08:14:51\n"
          ]
        }
      ]
    },
    {
      "cell_type": "code",
      "source": [
        "#Convert All Times\n",
        "\n",
        "minxss_time_lvl1_array = np.array([])\n",
        "\n",
        "for time_index in range(len(minxss_level1_df['TIME'])):\n",
        "  #minxss_time = minxss_level1_df['TIME'][time_index]['HUMAN'][0].decode(\"utf-8\")\n",
        "  minxss_time = pd.to_datetime(minxss_level1_df['TIME'][time_index]['HUMAN'][0].decode(\"utf-8\"))\n",
        "  minxss_time_lvl1_array = np.append(minxss_time_lvl1_array, minxss_time)\n",
        "\n"
      ],
      "metadata": {
        "id": "c78EagskG9kW"
      },
      "execution_count": 120,
      "outputs": []
    },
    {
      "cell_type": "markdown",
      "source": [
        "## Time Series\n",
        "\n",
        "Use X123_SLOW_COUNT tag. \n",
        "X123 has units of counts per seconds\n"
      ],
      "metadata": {
        "id": "BAm6TbK2OOuU"
      }
    },
    {
      "cell_type": "code",
      "source": [
        "#Plot all of MinXSS-1 mission \n",
        "fig, ax = plt.subplots(1)\n",
        "ax.plot(minxss_time_lvl1_array, minxss_level1_df['X123_SLOW_COUNT'], 'o')\n",
        "ax.set_xlabel('Time [UTC]')\n",
        "ax.set_ylabel('Count Rate [cps]')\n",
        "ax.xaxis.set_major_locator(mdates.AutoDateLocator(minticks=5, maxticks=10))\n",
        "ax.xaxis.set_major_formatter(mdates.DateFormatter('%y-%m'))\n"
      ],
      "metadata": {
        "colab": {
          "base_uri": "https://localhost:8080/",
          "height": 279
        },
        "id": "-QwGzk9cH-nh",
        "outputId": "9d6bd869-ecc3-4806-d246-1c77e380842a"
      },
      "execution_count": 121,
      "outputs": [
        {
          "output_type": "display_data",
          "data": {
            "text/plain": [
              "<Figure size 432x288 with 1 Axes>"
            ],
            "image/png": "[encoded data removed]"
          },
          "metadata": {
            "needs_background": "light"
          }
        }
      ]
    },
    {
      "cell_type": "code",
      "source": [
        "#Plot Time Series Flare\n",
        "fig, ax = plt.subplots(1)\n",
        "ax.plot(minxss_time_lvl1_array[3900:4150], minxss_level1_df['X123_SLOW_COUNT'][3900:4150], 'o')\n",
        "ax.set_xlabel('Time [UTC]')\n",
        "ax.set_ylabel('Count Rate [cps]')\n",
        "ax.xaxis.set_major_locator(mdates.AutoDateLocator(minticks=5, maxticks=10))\n",
        "ax.xaxis.set_major_formatter(mdates.DateFormatter('%H:%M'))\n",
        "\n",
        "\n"
      ],
      "metadata": {
        "colab": {
          "base_uri": "https://localhost:8080/",
          "height": 279
        },
        "id": "t_cf6J9QIOAP",
        "outputId": "9796ffca-9fdd-4bb8-9a14-6f14fae9e8c5"
      },
      "execution_count": 122,
      "outputs": [
        {
          "output_type": "display_data",
          "data": {
            "text/plain": [
              "<Figure size 432x288 with 1 Axes>"
            ],
            "image/png": "[encoded data removed]"
          },
          "metadata": {
            "needs_background": "light"
          }
        }
      ]
    },
    {
      "cell_type": "code",
      "source": [
        "minxss_time_lvl1_array[4050]"
      ],
      "metadata": {
        "colab": {
          "base_uri": "https://localhost:8080/"
        },
        "id": "3FCrcDKwPTvg",
        "outputId": "62d5bfa0-9e47-4505-fca1-55f468fb24d1"
      },
      "execution_count": 123,
      "outputs": [
        {
          "output_type": "execute_result",
          "data": {
            "text/plain": [
              "Timestamp('2016-07-23 02:04:31')"
            ]
          },
          "metadata": {},
          "execution_count": 123
        }
      ]
    },
    {
      "cell_type": "markdown",
      "source": [
        "## Spectra\n",
        "\n",
        "Use Energy and Irradiance tags. \n",
        "Irradiance has units of [photons / sec / cm$^2$ / keV] and Energy has units of keV\n"
      ],
      "metadata": {
        "id": "QMk_Bf6UE2sY"
      }
    },
    {
      "cell_type": "code",
      "source": [
        "fig, ax = plt.subplots(1)\n",
        "ax.plot( minxss_level1_df['ENERGY'][4050], minxss_level1_df['IRRADIANCE'][4050], 'o')\n",
        "ax.set_xlabel('Energy [keV]')\n",
        "ax.set_ylabel('Irradiance [photons / sec / cm$^2$ / keV]')\n",
        "ax.set_xlim([0,10])\n",
        "ax.set_ylim([1e3, 1e11])\n",
        "ax.set_yscale('log')\n",
        "ax.set_title('Spectrum at ' + str(minxss_time_lvl1_array[4050]))"
      ],
      "metadata": {
        "colab": {
          "base_uri": "https://localhost:8080/",
          "height": 313
        },
        "id": "dDpUQ_P_DWqQ",
        "outputId": "bfce7dc2-c7ef-4e7b-d3c2-5253dd0ed314"
      },
      "execution_count": 124,
      "outputs": [
        {
          "output_type": "execute_result",
          "data": {
            "text/plain": [
              "Text(0.5, 1.0, 'Spectrum at 2016-07-23 02:04:31')"
            ]
          },
          "metadata": {},
          "execution_count": 124
        },
        {
          "output_type": "display_data",
          "data": {
            "text/plain": [
              "<Figure size 432x288 with 1 Axes>"
            ],
            "image/png": "[encoded data removed]"
          },
          "metadata": {
            "needs_background": "light"
          }
        }
      ]
    },
    {
      "cell_type": "code",
      "source": [
        ""
      ],
      "metadata": {
        "id": "P0rss8UpP5Z0"
      },
      "execution_count": 124,
      "outputs": []
    }
  ]
}
